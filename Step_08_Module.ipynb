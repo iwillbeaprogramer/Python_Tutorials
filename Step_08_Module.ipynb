{
 "cells": [
  {
   "cell_type": "markdown",
   "metadata": {},
   "source": [
    "# 수업 내용 이해"
   ]
  },
  {
   "cell_type": "markdown",
   "metadata": {},
   "source": [
    "인류는 지난 과거의 기록과 이루어 놓은 업적을 계승 발전함으로서 보다 좋은 방향으로 살고자 노력하게 됩니다.<br>\n",
    "소프트웨어를 개발하는 작업에서도, 남이 이미 만들어 놓은 훌륭한 프로그램들과 본인이 과거에 만들어 놓은 프로그램들을 다시 활용하여 새로운 프로그램을 만들어서, <br>\n",
    "보다 좋고 안정적이며 효율적인 소프트웨어를 개발하게 됩니다.<br>\n",
    "이러한 개념을 전문적으로 재사용(Reuse)라고 칭하며, 가장 기본이 되는 기술적 방법이 바로 본 수업에서 공부할 \"모듈(Module)\"입니다."
   ]
  },
  {
   "cell_type": "markdown",
   "metadata": {},
   "source": [
    "## 모듈 개념 이해하기"
   ]
  },
  {
   "cell_type": "markdown",
   "metadata": {},
   "source": [
    "우리는 수업을 통해서 유용한 많은 기능을 Python 언어에서 이미 제공하는 것을 배웠습니다.<br>\n",
    "Python은 언어이기에 내장하는 기능들이 대부분의 프로그래머에게 필요한 필수적인 것들을 제공하고 있습니다.<br>\n",
    "따라서 특정 분야에서 필수적으로 필요로 하는 기능은, 분야에 제한적이기에 Python 언어에서 기본 내장하기는 어렵습니다.<br>\n",
    "이러한 이유로 수많은 프로그래머들은 본인이 풀고자 하는 문제에서 주요한 기능을 직접 만들고 서로 공유하는 접근을 하게 되며, 이때 중요한 것이 모듈(Module) 입니다.<br>\n",
    "모듈은 프로그래머들이 직접 유용한 함수 등을 작성하여, 다른 사람 혹은 본인의 프로그램 개발시 활용하고자 하는 일종의 별도 화일 입니다.<br>"
   ]
  },
  {
   "cell_type": "markdown",
   "metadata": {},
   "source": [
    "## ``math`` 모듈을 통한 활용방법 이해하기"
   ]
  },
  {
   "cell_type": "markdown",
   "metadata": {},
   "source": [
    "``math`` 모듈은 Python 언어를 사용하여 수학 계산이 필요한 다양한 기능을 제공하며, 별도의 설치 없이 바로 사용 가능합니다.<br>\n",
    "``math`` 모듈이 제공하는 다양한 기능과 자세한 설명은 Python 언어 웹사이트< https://docs.python.org/3/library/math.html >를 참조합니다.<br>\n",
    "\n",
    "앞서 언급한 것처럼, ``math`` 모듈은 별도의 설치없이 바로 사용 가능하기에, 필요한 경우 바로 내가 개발하는 프로그램에 포함할 수 있습니다.<br>\n",
    "모듈을 포함할때 사용하는 Python 문법은 ``import``으로, 단순하게 ``import _모듈이름_``을 실행하면 됩니다.\n",
    "실제 ``math`` 모듈을 불러오는 예제는 다음과 같습니다.\n",
    "\n",
    "```python\n",
    "import math\n",
    "```\n",
    "\n",
    "아래의 입력창에 실제로 입력하여 실행해 보기 바랍니다."
   ]
  },
  {
   "cell_type": "code",
   "execution_count": null,
   "metadata": {},
   "outputs": [],
   "source": []
  },
  {
   "cell_type": "markdown",
   "metadata": {},
   "source": [
    "문제 없이 실행되어진 것으로 보이는데, 어떻게 확인을 할까요?<br>\n",
    "이미 수업에서 배운 유용한 기능인 ``type()``과 ``help()``를 사용하여, ``math`` 모듈이 제대로 불러들어져 있는지 확인이 가능합니다.<br>\n",
    "\n",
    "```python\n",
    "type(math)\n",
    "```\n",
    "\n",
    "```python\n",
    "help(math)\n",
    "```\n",
    "\n",
    "아래의 입력창에 실제로 입력하여 실행해 보면, ``math`` 모듈의 타입이 ``module``로 나오는 것과 ``math`` 모듈에서 제공하는 다양한 함수 등의 설명을 볼 수 있습니다.<br>"
   ]
  },
  {
   "cell_type": "code",
   "execution_count": null,
   "metadata": {},
   "outputs": [],
   "source": []
  },
  {
   "cell_type": "markdown",
   "metadata": {},
   "source": [
    "``math`` 모듈안에 상당히 많은 함수들이 제공되는 것을 볼수 있습니다.<br>\n",
    "모듈안에 포함된 함수를 호출(실행)하는 경우는 규칙이 있는데, 즉 함수의 이름을 ``math.factorial(3)``과 같이 ``모듈명.함수명()``으로 해야 합니다.<br>\n",
    "\n",
    "아래의 입력창에 실제로 ``math`` 모듈에 포함된 ``math.factorial(3)`` 및 다른 함수들을 실행해 보기 바랍니다.<br>"
   ]
  },
  {
   "cell_type": "code",
   "execution_count": null,
   "metadata": {},
   "outputs": [],
   "source": []
  },
  {
   "cell_type": "markdown",
   "metadata": {},
   "source": [
    "매번 모듈의 이름을 앞에 쓰는 작업이 귀찮다면, 보다 편리한 방안을 사용할 수 있습니다.<br>\n",
    "이 방법은 ``from _모듈이름_ import _함수이름_``과 같이, 사용하기 원하는 함수만 해당 모듈에서 불러온다는 의미입니다.<br>\n",
    "실제 ``math`` 모듈에서 앞서 살려본 ``factorial()`` 함수를 불러오는 예제는 다음과 같습니다.\n",
    "\n",
    "```python\n",
    "from math import factorial\n",
    "```\n",
    "\n",
    "이후로는 ``math.factorial(3)``처럼 모듈의 이름을 계속 입력하지 않고, 바로 ``factorial(3)``처럼 함수를 실행하는 것이 가능합니다.<br>\n",
    "\n",
    "아래의 입력창에 실제로 ``from math import factorial`` 구문과 ``factorial(3)`` 문장을 입력하여 실행해 보기 바랍니다."
   ]
  },
  {
   "cell_type": "code",
   "execution_count": null,
   "metadata": {},
   "outputs": [],
   "source": []
  },
  {
   "cell_type": "markdown",
   "metadata": {},
   "source": [
    "## 사용자 정의 모듈 활용방법 이해하기"
   ]
  },
  {
   "cell_type": "markdown",
   "metadata": {},
   "source": [
    "함수에서 사용자 정의 함수가 있는 것처럼, 모듈도 당연히 프로그래머가 직접 만들어서 본인이 재활용하거나 남에게 공유하는 것이 가능합니다.<br>\n",
    "방법은 어렵지 않으며, 일단 수업 내용기준으로 함수만을 대상으로 한다면, 다음의 단계를 따르면 됩니다.<br>\n",
    "\n",
    "``(a) 사용하고자 하는 모듈 이름으로 화일을 만들고 확장자를 .py로 합니다.``<br>\n",
    "``(b) 모듈안에 넣고자 하는 함수를 (a)에서 만든 화일에 포함 합니다.``<br>\n",
    "``(c) 앞서 math 모듈 및 math 모듈에 포함된 함수를 사용하는 방법을 동일하게 사용하여 사용자 정의 모듈 안의 함수를 사용합니다.``<br>\n",
    "\n",
    "이미 본 강의 자료에서 활용하기 위한 사용자 정의 모듈 샘플이 ``Step_08_SampleModule_convertor.py``로 제공 되었습니다.<br>\n",
    "본 강의 자료가 있는 디렉토리에서 해당 화일을 열어보면, 아래와 같이, 앞서 수업에서 작성한 ``convert_to_celsius()`` 함수 하나가 있는 것을 볼수 있습니다.<br>\n",
    "\n",
    "```python\n",
    "# Module name: Step_08_SampleModule_convertor\n",
    "# Written by: drsungwon@khu.ac.kr\n",
    "# Written data: 2018.07.07\n",
    "\n",
    "def convert_to_celsius(fahrenheit):\n",
    "    return (fahrenheit - 32) * 5/9\n",
    "```\n",
    "\n",
    "(c)에서 사용자 정의 모듈의 사용법은 Python에서 제공하는 모듈과 같다고 했으니, 다음의 문장들을 사용하면 된다는 의미겠지요?<br>\n",
    "\n",
    "```python\n",
    "# Method.1\n",
    "import Step_08_SampleModule_convertor\n",
    "Step_08_SampleModule_convertor.convert_to_celsius(212)\n",
    "\n",
    "# Method.2\n",
    "from Step_08_SampleModule_convertor import convert_to_celsius\n",
    "convert_to_celsius(212)\n",
    "```\n",
    "\n",
    "아래의 입력창에 실제로 문장을 입력하여 실행해 보기 바랍니다."
   ]
  },
  {
   "cell_type": "code",
   "execution_count": null,
   "metadata": {},
   "outputs": [],
   "source": []
  },
  {
   "cell_type": "markdown",
   "metadata": {},
   "source": [
    "여러분이 직접 새로운 함수를 추가하고 실행해 보는 경험을 해봅시다.<br>\n",
    "즉, 다음처럼 화씨를 섭씨로 변환하는 ``convert_to_fahrenheit()`` 함수를 ``Step_08_SampleModule_convertor.py`` 모듈에 추가하고,<br>\n",
    "위의 예제처럼 직접 실행해 보도록 합니다.<br>\n",
    "\n",
    "```python\n",
    "def convert_to_fahrenheit(celsius):\n",
    "    return (celsius * 1.8) + 32\n",
    "```\n",
    "\n",
    "``Step_08_SampleModule_convertor.py`` 수정후, 아래의 입력창에 모듈을 다시 불러드린후, ``convert_to_fahrenheit()`` 함수를 실행해 보기 바랍니다."
   ]
  },
  {
   "cell_type": "code",
   "execution_count": null,
   "metadata": {},
   "outputs": [],
   "source": []
  },
  {
   "cell_type": "markdown",
   "metadata": {},
   "source": [
    "마지막으로 사용자 정의 모듈의 경우도 앞서 설명한 유용한 기능인 ``type()``과 ``help()``를 사용할 수 있으니, 필요시 활용바랍니다."
   ]
  },
  {
   "cell_type": "markdown",
   "metadata": {},
   "source": [
    "## 유용한 모듈 활용하기"
   ]
  },
  {
   "cell_type": "markdown",
   "metadata": {},
   "source": [
    "**``random``**<br>\n",
    "Python 언어를 통하여 난수(random number)를 만들기 위하여 사용합니다.<br>\n",
    "자세한 설명은 < https://docs.python.org/3/library/random.html?highlight=random#module-random >를 참조합니다.<br>\n",
    "\n",
    "**``turtle``**<br>\n",
    "Python 언어를 통하여 간단한 그림을 그려보는 교육용 용도로 많이 사용합니다.<br>\n",
    "자세한 설명은 < https://docs.python.org/3/library/turtle.html?highlight=turtle#module-turtle >를 참조합니다.<br>\n",
    "다음은 ``turtle`` 모듈을 사용한 예제인데, 소스코드에서 이해가 안되는 부분이 일부 있겠지만, 아래의 입력창에서 입력후 실행해 보십시오.<br>\n",
    "특별히 ``from turtle import *``의 의미는 ``turtle`` 모듈의 모든 함수를 가져와서, 모듈명 없이 호출하겠다는 의미입니다.\n",
    "\n",
    "```python\n",
    "from turtle import *\n",
    "color('red', 'yellow')\n",
    "begin_fill()\n",
    "while True:\n",
    "    forward(200)\n",
    "    left(170)\n",
    "    if abs(pos()) < 1:\n",
    "        break\n",
    "end_fill()\n",
    "done()\n",
    "```\n",
    "\n",
    "아래의 입력창에 실제로 문장을 입력하여 실행해 보기 바랍니다."
   ]
  },
  {
   "cell_type": "code",
   "execution_count": null,
   "metadata": {},
   "outputs": [],
   "source": []
  },
  {
   "cell_type": "markdown",
   "metadata": {},
   "source": [
    "# 실습 (LAB)"
   ]
  },
  {
   "cell_type": "markdown",
   "metadata": {},
   "source": [
    "``math`` 모듈의 함수를 이용하여, 다음의 작업을 한번에 (1)에서 (3)까지 수행하는 간단한 프로그램을 개발해 봅니다.<br>\n",
    "\n",
    "(1) 9의 제곱근을 계산하여 화면에 출력합니다.<br>\n",
    "(2) 변수 x를 16으로 정의하고, x의 제곱근을 화면에 출력합니다.<br>\n",
    "(3) 반지름이 5인 원의 넓이(= $pi * r^2$ (r: 원의 반지름))를 계산하여 화면에 출력합니다.<br>\n",
    "\n",
    "아래의 입력창에 실제로 문장을 입력하여 실행하십시오."
   ]
  },
  {
   "cell_type": "code",
   "execution_count": null,
   "metadata": {},
   "outputs": [],
   "source": []
  }
 ],
 "metadata": {
  "kernelspec": {
   "display_name": "Python 3",
   "language": "python",
   "name": "python3"
  },
  "language_info": {
   "codemirror_mode": {
    "name": "ipython",
    "version": 3
   },
   "file_extension": ".py",
   "mimetype": "text/x-python",
   "name": "python",
   "nbconvert_exporter": "python",
   "pygments_lexer": "ipython3",
   "version": "3.6.5"
  }
 },
 "nbformat": 4,
 "nbformat_minor": 2
}
